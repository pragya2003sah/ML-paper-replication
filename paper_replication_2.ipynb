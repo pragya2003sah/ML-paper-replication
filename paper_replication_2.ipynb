{
  "nbformat": 4,
  "nbformat_minor": 0,
  "metadata": {
    "colab": {
      "provenance": [],
      "authorship_tag": "ABX9TyO130gEFiLr2/0gGbefDtRe",
      "include_colab_link": true
    },
    "kernelspec": {
      "name": "python3",
      "display_name": "Python 3"
    },
    "language_info": {
      "name": "python"
    }
  },
  "cells": [
    {
      "cell_type": "markdown",
      "metadata": {
        "id": "view-in-github",
        "colab_type": "text"
      },
      "source": [
        "<a href=\"https://colab.research.google.com/github/pragya2003sah/ML-paper-replication/blob/main/paper_replication_2.ipynb\" target=\"_parent\"><img src=\"https://colab.research.google.com/assets/colab-badge.svg\" alt=\"Open In Colab\"/></a>"
      ]
    },
    {
      "cell_type": "code",
      "execution_count": null,
      "metadata": {
        "id": "yQ0RMlLEgn3J"
      },
      "outputs": [],
      "source": [
        "import torch\n",
        "from torch import nn"
      ]
    },
    {
      "cell_type": "code",
      "source": [
        "class purple_block(nn.Module):\n",
        "  def __init__(self,c1,c2):\n",
        "    super().__init__()\n",
        "\n",
        "    self.conv1=nn.Conv1d(in_channels=c1,out_channels=c2,kernel_size=2,stride=2)\n",
        "    self.ln=nn.LayerNorm(c2)\n",
        "    self.conv2=nn.Conv1d(in_channels=c2,out_channels=4*c2,kernel_size=1,stride=1)\n",
        "    self.drop=nn.Dropout(p=0.2)\n",
        "\n",
        "    self.conv=nn.Conv1d(in_channels=4*c2,out_channels=4*c2,kernel_size=1,stride=1)\n",
        "\n",
        "    self.final_batch=nn.Sequential(\n",
        "        nn.GELU(),\n",
        "        nn.Conv1d(in_channels=8*c2,out_channels=c2,kernel_size=1,stride=1)\n",
        "    )\n",
        "  def forward(self,x):\n",
        "    def first_batch(inp):\n",
        "      z=self.conv1(inp)\n",
        "      z=z.permute(0,2,1)\n",
        "      z=self.ln(z)\n",
        "      z=z.permute(0,2,1)#restoring the original shape\n",
        "      z=self.conv2(z)\n",
        "      z=self.drop(z)\n",
        "      return z\n",
        "\n",
        "    b1=first_batch(x)\n",
        "    b2=first_batch(x)\n",
        "    b3=first_batch(x)\n",
        "    b1=self.conv(b1)\n",
        "    b2=self.conv(b2)\n",
        "    a=torch.cat((b1,b3),dim=1)\n",
        "    b=torch.cat((b2,b3),dim=1)\n",
        "    c=a+b\n",
        "    c=self.final_batch(c)\n",
        "    return c\n",
        "\n",
        "\n",
        "\n"
      ],
      "metadata": {
        "id": "LfMpYbPugvlS"
      },
      "execution_count": null,
      "outputs": []
    },
    {
      "cell_type": "code",
      "source": [
        "class Linear_Block(nn.Module):\n",
        "  def __init__(self):\n",
        "    super().__init__()\n",
        "    self.L1=nn.Linear(in_features=512,out_features=256)\n",
        "    self.G=nn.GELU()\n",
        "    self.L2=nn.Linear(in_features=256,out_features=5)\n",
        "  def forward(self,x):\n",
        "    x=self.L1(x)\n",
        "    x=self.G(x)\n",
        "    x=self.L2(x)\n",
        "    return x\n"
      ],
      "metadata": {
        "id": "wy-kHK8TnaI5"
      },
      "execution_count": null,
      "outputs": []
    },
    {
      "cell_type": "code",
      "source": [
        "class Main_Architecture(nn.Module):\n",
        "  def __init__(self):\n",
        "    super().__init__()\n",
        "    self.block1=purple_block(3,32)\n",
        "    self.block2=purple_block(32,64)\n",
        "    self.block3=purple_block(64,128)\n",
        "    self.block4=purple_block(128,256)\n",
        "    self.block5=purple_block(256,512)\n",
        "\n",
        "    self.g=nn.AdaptiveAvgPool1d(1)\n",
        "\n",
        "    self.block6=Linear_Block()\n",
        "\n",
        "  def forward(self,x):\n",
        "    y=self.block1(x)\n",
        "    y=self.block2(y)\n",
        "    y=self.block3(y)\n",
        "    y=self.block4(y)\n",
        "    y=self.block5(y)\n",
        "    y=self.g(y)\n",
        "    y=y.permute(0,2,1)\n",
        "    y=self.block6(y)\n",
        "    return y\n",
        "\n"
      ],
      "metadata": {
        "id": "HrgwtQyB2Op_"
      },
      "execution_count": null,
      "outputs": []
    },
    {
      "cell_type": "code",
      "source": [
        "x=torch.randn(2,3,256)\n",
        "model=Main_Architecture()\n",
        "y=model(x)\n",
        "y.shape"
      ],
      "metadata": {
        "colab": {
          "base_uri": "https://localhost:8080/"
        },
        "id": "06uNraV-vocX",
        "outputId": "266f239e-bc83-42ba-ba8f-011e54cd0e8c"
      },
      "execution_count": null,
      "outputs": [
        {
          "output_type": "execute_result",
          "data": {
            "text/plain": [
              "torch.Size([2, 1, 5])"
            ]
          },
          "metadata": {},
          "execution_count": 43
        }
      ]
    },
    {
      "cell_type": "code",
      "source": [],
      "metadata": {
        "id": "_5hCAXAk1X8F"
      },
      "execution_count": null,
      "outputs": []
    }
  ]
}